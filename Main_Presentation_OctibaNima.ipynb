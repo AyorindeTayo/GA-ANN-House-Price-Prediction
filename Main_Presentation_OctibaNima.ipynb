{
 "cells": [
  {
   "cell_type": "markdown",
   "metadata": {},
   "source": [
    "# GA-ANN house price - Octiba Nima Group\n"
   ]
  },
  {
   "cell_type": "markdown",
   "metadata": {},
   "source": [
    "This notebook is for running the main function and visualizing the result for presentation purpose. General description for the main function is available below. More detail descriptios/comments  available in the .py files."
   ]
  },
  {
   "cell_type": "code",
   "execution_count": null,
   "metadata": {},
   "outputs": [],
   "source": [
    "from runGA import run\n",
    "import pandas as pd\n",
    "import numpy as np\n",
    "from data_module.data import data_cleaning\n",
    "from ga_module.ga import GA\n",
    "import matplotlib.pyplot as plt\n",
    "from sklearn.metrics import mean_squared_error\n",
    "import seaborn as sns\n",
    "from matplotlib.legend_handler import HandlerLine2D\n",
    "import time"
   ]
  },
  {
   "cell_type": "markdown",
   "metadata": {},
   "source": [
    "### Run the Data Cleaning and calling function run from runGA\n",
    "- Calling the function data_cleaning from data.py will return a dataframe which has been cleaned.\n",
    "    - Input Argument : file name, and normalize = True / False\n",
    "    - Output : if normalize set to True, then return the normalized cleaned Dataframe, otherwise, the cleaned dataframe without normalization.\n",
    "- Calling function run from runGA.py\n",
    "    - input Argument : \n",
    "         - **data :** cleaned dataframe\n",
    "         - **target :** target column name, in this case 'SalePrice'\n",
    "         - **init_ratio_ :** the inital probability of activating a feature in the initial population. 1 would activate all features, 0.5 half, etc...\n",
    "         - **cross_rate :** cross ratio\n",
    "         - **mutate_rate :** mutation ratio\n",
    "         - **pop_size :** Population size\n",
    "         - **n_generations :** number of generations\n",
    "         - **elitism :** this will be used when the ga_evolve is set to 'elitism' this is a percentage of best individual in mating pool which will not be crossovered (calculated againt the number of population)\n",
    "         - **ga_ann_iterations :** number of iterations, for ANN regressor which will be called within the GA\n",
    "         - **ga_ann_layers :** number of hidden layers, for ANN regressor which will be called within the GA\n",
    "         - **mape_ann_iterations :** number of iterations, for ANN regressor outside of the GA\n",
    "         - **mape_ann_layers :** number of hidden layers, for ANN regressor outside the GA\n",
    "         - **ga_score :** 'default' or 'score'(the method to be used for calculating fitness score)\n",
    "         - **ga_evolve :** 'default','evolve2','elitism'(to determine which alternative of evolve function used)\n",
    "         - **final_mape_idx :** 'default' or 'best')\n",
    "         \n",
    "    - output : \n",
    "         - **evolution :** Best Mean Squared Error (MSE) from each generation\n",
    "         - **bestFeatures :** List of features from best individual from each generation(best individual ranked by the fitness score)\n",
    "         - **bestPredictions :** List of predictions from the best individual from each generation\n",
    "         - **initial_mape :** Mean absolute percentage error (MAPE) without the Feature Selection process (ANN only)\n",
    "         - **final_mape :** Mean absolute percentage error (MAPE) with the Feature Selection process (GA_ANN)\n",
    "         - **mape_y_test :** y_test values\n",
    "         - **final_mape_prediction :** the predictions for SalePrice from GA_ANN (with features selection)\n",
    "         - **initial_mape_prediction:** the predictions for SalePrice from ANN onlh (without features selection)\n"
   ]
  },
  {
   "cell_type": "code",
   "execution_count": null,
   "metadata": {},
   "outputs": [],
   "source": [
    "#Run unique number\n",
    "unique_no = str(int(round(time.time())))\n",
    "\n",
    "# Started by getting the cleaned data\n",
    "data = data_cleaning('data_module/AmesHousing.csv', normalize=False)\n",
    "target = 'SalePrice'\n",
    "\n",
    "init_Ratio = 0.5\n",
    "cross_rate = 0.5\n",
    "mutate_rate = 0.002\n",
    "pop_size = 120\n",
    "n_generations = 100\n",
    "elitism = 0.05\n",
    "ga_ann_iterations =100\n",
    "ga_ann_layers =2\n",
    "mape_ann_iterations =1000\n",
    "mape_ann_layers = 4\n",
    "\n",
    "\n",
    "# Run the GA ANN\n",
    "evolution, bestFeatures, bestPredictions, initial_mape, final_mape, mape_y_test,final_mape_prediction,initial_mape_prediction,train_y_test = run(data, target, init_Ratio, cross_rate, mutate_rate, pop_size, n_generations, elitism, \n",
    "ga_ann_iterations, ga_ann_layers, mape_ann_iterations, mape_ann_layers,\n",
    "ga_score='score', ga_evolve='elitism',\n",
    "final_mape_idx='best')\n",
    "\n"
   ]
  },
  {
   "cell_type": "markdown",
   "metadata": {},
   "source": [
    "### Visualization of prediction result without feature selection approach (ANN only)\n",
    "    - Print the Mean Absolute Percentage Error\n",
    "    - Plot the predictions vs real price (y test)"
   ]
  },
  {
   "cell_type": "code",
   "execution_count": null,
   "metadata": {},
   "outputs": [],
   "source": [
    "## Printing and plotting the result of the mape\n",
    "print('Mape for prediction result without feature selection approach (ANN only) = ',initial_mape,'%')\n",
    "\n",
    "#Setting Font size for the plots\n",
    "plt.rc('axes', titlesize=14)     # axes title\n",
    "plt.rc('axes', labelsize=13)     # x and y labels\n",
    "plt.rc('xtick', labelsize=11)    # tick labels\n",
    "plt.rc('ytick', labelsize=11)    # tick labels\n",
    "plt.rc('legend', fontsize=13)    # legend fontsize\n",
    "\n",
    "## Plotting the Predictions vs real prices\n",
    "x = np.arange(0., len(mape_y_test), 1)\n",
    "y = np.array(list(mape_y_test))\n",
    "pi= np.array(list(initial_mape_prediction))\n",
    "idx = y.argsort()\n",
    "\n",
    "fig2 = plt.figure(figsize=(15,25))\n",
    "ax4 = fig2.add_subplot(3,1,3)\n",
    "ax4.plot(x, y[idx], 'ro',label='Real Price (Y test)')\n",
    "ax4.plot(x, pi[idx], 'bo',label='Predictions')\n",
    "plt.title('Plot of Prediction Vs Ytest without feature selection approach (ANN Only)',fontweight=\"bold\")\n",
    "ax4.set_ylabel('SalePrice')\n",
    "ax4.legend()\n",
    "plt.savefig('ga_module/results/'+unique_no+'predictions_ANN.png')\n"
   ]
  },
  {
   "cell_type": "markdown",
   "metadata": {},
   "source": [
    "### Visualization of prediction result with feature selection approach (GA-ANN)\n",
    "    - Print the Mean Absolute Percentage Error \n",
    "    - Plot the predictions vs real price (y test)\n",
    "    - Barplot the occurence of best features (from best individual from each generation)\n",
    "    - Illustrating the frequency of two features occuring together using heatmap"
   ]
  },
  {
   "cell_type": "code",
   "execution_count": null,
   "metadata": {},
   "outputs": [],
   "source": [
    "print('Mape for prediction result with feature selection approach (GA-ANN):',final_mape,'%')\n",
    "\n",
    "fig = plt.figure(figsize=(15,25))\n",
    "#Plotting the Ytest against the prediction\n",
    "p = np.array(list(final_mape_prediction))\n",
    "\n",
    "#we already get the x, y, and idx from section above\n",
    "ax = fig.add_subplot(3,1,1)\n",
    "ax.plot(x, y[idx], 'ro',label='Real Price (Y test)')\n",
    "ax.plot(x, p[idx], 'bo',label='Predictions')\n",
    "plt.title('Plot of Prediction Vs Ytest with feature selection approach (GA-ANN)',fontweight=\"bold\")\n",
    "ax.set_ylabel('SalePrice')\n",
    "ax.legend()\n",
    "\n",
    "#Plotting the lowest RMSE for each generation. Note: evolution is the best MSE for each generation \n",
    "ax2 = fig.add_subplot(3,1,2)\n",
    "ax2.plot(np.sqrt(evolution), color='b',linestyle='dashed',marker='o',label='test')\n",
    "plt.title('Plot of the lowest RMSE for each generation',fontweight=\"bold\")\n",
    "#set the xticks\n",
    "#major_ticks = np.arange(0, len(evolution), 1)\n",
    "#ax2.set_xticks(major_ticks)\n",
    "ax2.set_ylabel('Root Mean Square Error(RMSE)')\n",
    "ax2.set_xlabel('Generation no.')\n",
    "ax2.grid()\n",
    "\n",
    "#Plotting the number of features which produce lowest RMSE for each generation\n",
    "num_features=[len(x) for x in bestFeatures]\n",
    "ax3= fig.add_subplot(3,1,3)\n",
    "ax3.plot(num_features, color='r',linestyle='dashed',marker='o',label='test')\n",
    "plt.title('Plot of number of features for each generation from the best individual',fontweight=\"bold\")\n",
    "major_ticks2 = np.arange(0, len(evolution), 1)\n",
    "#ax3.set_xticks(major_ticks2)\n",
    "ax3.set_ylabel('Number of Features')\n",
    "ax3.set_xlabel('Generation no.')\n",
    "ax3.grid()\n",
    "plt.savefig('ga_module/results/'+unique_no+'predictions_GA_ANN.png')\n",
    "\n",
    "print('')"
   ]
  },
  {
   "cell_type": "code",
   "execution_count": null,
   "metadata": {},
   "outputs": [],
   "source": [
    "## Setting Barplot the occurence of best features (from best individual from each generation)\n",
    "\n",
    "#Get the unique features from all of the features occured in best individual from all generations\n",
    "#Get the count (number of occurence) of unique features \n",
    "unique, counts = np.unique(np.concatenate(bestFeatures), return_counts=True)\n",
    "\n",
    "#Create dictionary pairing the unique features and the number of occurence\n",
    "features_dict=dict(zip(unique, counts))\n",
    "\n",
    "#make dataframe from the dictionary\n",
    "features_dataframe = pd.DataFrame([features_dict])\n",
    "\n",
    "#set up Barplot to the dataframe to visualize features occurences\n",
    "sns.set(font_scale=1)\n",
    "features_dataframe_plot = features_dataframe.sum(axis=0)\n",
    "features_dataframe_plot.sort_values(ascending=True,inplace=True)\n",
    "feature_plot = features_dataframe_plot.plot.barh(figsize=(10,20),alpha=1, title='Features occurences')\n",
    "feature_fig = feature_plot.get_figure()\n",
    "feature_fig.savefig('ga_module/results/'+unique_no+'featuresocc.png')"
   ]
  },
  {
   "cell_type": "code",
   "execution_count": null,
   "metadata": {},
   "outputs": [],
   "source": [
    "#Illustrating the frequency of two features occuring together using heatmap\n",
    "df_feat = pd.DataFrame(0, index = np.arange(len(bestFeatures)), columns = unique)\n",
    "df_feat['GenerationNo']=0\n",
    "for i in range(len(bestFeatures)):\n",
    "    df_feat.loc[i,bestFeatures[i]] = 1\n",
    "    df_feat.loc[i,'GenerationNo'] = i\n",
    "    \n",
    "#Make a dataframe which shows how many time each feature occurs together with another features\n",
    "heatmap_df = pd.DataFrame(0, index = unique, columns = unique)\n",
    "\n",
    "#Filling in the dataframe with the number of time two features occurs together\n",
    "for j in range(len(unique)):\n",
    "    df_slice = df_feat[df_feat[unique[j]] ==1]\n",
    "    for k in range(j+1,len(unique)):\n",
    "        heatmap_df.loc[unique[k],unique[j]]=sum(df_slice.loc[:,unique[k]])\n",
    "        heatmap_df.loc[unique[j],unique[k]]=sum(df_slice.loc[:,unique[k]])\n",
    "        \n",
    "        \n",
    "#Illustrate the intensity of each feature occurs together with another features using heatmap\n",
    "sns.set(font_scale=6)\n",
    "colormap = sns.diverging_palette(220, 10, as_cmap=True)\n",
    "plt.figure(figsize=(120,100))\n",
    "sns.heatmap(heatmap_df,cmap=colormap,cbar=True)\n",
    "plt.savefig('ga_module/results/'+unique_no+'heatmap.png')\n"
   ]
  },
  {
   "cell_type": "markdown",
   "metadata": {},
   "source": [
    "### Saving Parameters and results to dataframe and file CSV"
   ]
  },
  {
   "cell_type": "code",
   "execution_count": null,
   "metadata": {},
   "outputs": [],
   "source": [
    "\n",
    "#Saving dataframe to excel file\n",
    "list_columns = ['unique','generation_no','init_Ratio','cross_rate','mutate_rate','pop_size','n_generations','elitism',\n",
    "                'ga_ann_iterations','ga_ann_layers','mape_ann_iterations','mape_ann_layers','evolution',\n",
    "               'bestFeatures','bestPredictions','initial_mape','final_mape']\n",
    "list_columns_2 = ['unique','mape_y_test','final_mape_prediction','initial_mape_prediction']\n",
    "\n",
    "df_result = pd.DataFrame(0, index = np.arange(len(bestFeatures)), columns = list_columns)\n",
    "df_predictions = pd.DataFrame(0,index = np.arange(len(mape_y_test)),columns=list_columns_2)\n"
   ]
  },
  {
   "cell_type": "code",
   "execution_count": null,
   "metadata": {},
   "outputs": [],
   "source": [
    "df_result.unique=unique_no\n",
    "df_result.init_Ratio = init_Ratio\n",
    "df_result.cross_rate = cross_rate\n",
    "df_result.mutate_rate = mutate_rate\n",
    "df_result.pop_size = pop_size\n",
    "df_result.n_generations = n_generations\n",
    "df_result.elitism = elitism\n",
    "df_result.ga_ann_iterations =ga_ann_iterations\n",
    "df_result.ga_ann_layers =ga_ann_layers\n",
    "df_result.mape_ann_iterations =mape_ann_iterations\n",
    "df_result.mape_ann_layers = mape_ann_layers\n",
    "df_result.evolution = evolution\n",
    "df_result.bestFeatures= bestFeatures\n",
    "df_result.bestPredictions =bestPredictions\n",
    "df_result.initial_mape =initial_mape\n",
    "df_result.final_mape = final_mape\n",
    "df_result.generation_no = np.arange(len(bestFeatures))\n",
    "\n",
    "df_predictions.unique = unique_no\n",
    "df_predictions.mape_y_test = mape_y_test\n",
    "df_predictions.final_mape_prediction =final_mape_prediction\n",
    "df_predictions.initial_mape_prediction =initial_mape_prediction\n"
   ]
  },
  {
   "cell_type": "code",
   "execution_count": null,
   "metadata": {},
   "outputs": [],
   "source": [
    "df_predictions.to_excel('ga_module/results/'+unique_no+'predictions.xlsx')\n",
    "df_result.to_excel('ga_module/results/'+unique_no+'results.xlsx')\n",
    "np.save('ga_module/y_tests/'+unique_no,train_y_test)\n",
    "np.save('ga_module/predictions/'+unique_no,bestPredictions)"
   ]
  },
  {
   "cell_type": "code",
   "execution_count": null,
   "metadata": {},
   "outputs": [],
   "source": []
  }
 ],
 "metadata": {
  "kernelspec": {
   "display_name": "Python 3",
   "language": "python",
   "name": "python3"
  },
  "language_info": {
   "codemirror_mode": {
    "name": "ipython",
    "version": 3
   },
   "file_extension": ".py",
   "mimetype": "text/x-python",
   "name": "python",
   "nbconvert_exporter": "python",
   "pygments_lexer": "ipython3",
   "version": "3.7.0"
  }
 },
 "nbformat": 4,
 "nbformat_minor": 2
}
